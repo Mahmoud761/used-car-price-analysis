{
 "cells": [
  {
   "cell_type": "code",
   "execution_count": 37,
   "metadata": {},
   "outputs": [],
   "source": [
    "import pandas as pd\n",
    "import numpy as np\n",
    "np.float = float\n",
    "np.int = int\n",
    "np.bool = bool\n",
    "import matplotlib.pyplot as plt\n",
    "import seaborn as sns\n",
    "\n"
   ]
  },
  {
   "cell_type": "code",
   "execution_count": 38,
   "metadata": {},
   "outputs": [],
   "source": [
    "from sklearn.model_selection import train_test_split\n",
    "from sklearn.linear_model import LinearRegression\n",
    "from sklearn.metrics import mean_absolute_error, mean_squared_error, r2_score\n",
    "from sklearn.preprocessing import OneHotEncoder\n",
    "from sklearn.compose import ColumnTransformer\n",
    "from sklearn.pipeline import Pipeline\n",
    "\n"
   ]
  },
  {
   "cell_type": "code",
   "execution_count": 39,
   "metadata": {},
   "outputs": [],
   "source": [
    "df = pd.read_csv(r\"D:\\Study\\Power Bi\\used_car.csv\")\n"
   ]
  },
  {
   "cell_type": "code",
   "execution_count": 5,
   "metadata": {},
   "outputs": [
    {
     "name": "stdout",
     "output_type": "stream",
     "text": [
      "   make_year  mileage_kmpl  engine_cc fuel_type  owner_count  price_usd  \\\n",
      "0       2001          8.17       4000    Petrol            4    8587.64   \n",
      "1       2014         17.59       1500    Petrol            4    5943.50   \n",
      "2       2023         18.09       2500    Diesel            5    9273.58   \n",
      "3       2009         11.28        800    Petrol            1    6836.24   \n",
      "4       2005         12.23       1000    Petrol            2    4625.79   \n",
      "\n",
      "       brand transmission  color service_history  accidents_reported  \\\n",
      "0  Chevrolet       Manual  White            None                   0   \n",
      "1      Honda       Manual  Black            None                   0   \n",
      "2        BMW    Automatic  Black            Full                   1   \n",
      "3    Hyundai       Manual   Blue            Full                   0   \n",
      "4     Nissan    Automatic    Red            Full                   0   \n",
      "\n",
      "  insurance_valid  \n",
      "0              No  \n",
      "1             Yes  \n",
      "2             Yes  \n",
      "3             Yes  \n",
      "4             Yes  \n"
     ]
    }
   ],
   "source": [
    "print(df.head())\n"
   ]
  },
  {
   "cell_type": "code",
   "execution_count": 6,
   "metadata": {},
   "outputs": [
    {
     "name": "stdout",
     "output_type": "stream",
     "text": [
      "(10000, 12)\n"
     ]
    }
   ],
   "source": [
    "print (df.shape)\n"
   ]
  },
  {
   "cell_type": "code",
   "execution_count": 15,
   "metadata": {},
   "outputs": [
    {
     "name": "stdout",
     "output_type": "stream",
     "text": [
      "Nissan        1089\n",
      "Volkswagen    1033\n",
      "BMW           1021\n",
      "Tesla         1006\n",
      "Honda         1003\n",
      "Chevrolet      999\n",
      "Hyundai        989\n",
      "Toyota         956\n",
      "Kia            955\n",
      "Ford           949\n",
      "Name: brand, dtype: int64\n"
     ]
    }
   ],
   "source": [
    "Brands_count = df['brand'].value_counts()\n",
    "print(Brands_count)\n"
   ]
  },
  {
   "cell_type": "code",
   "execution_count": 17,
   "metadata": {},
   "outputs": [
    {
     "name": "stdout",
     "output_type": "stream",
     "text": [
      "brand\n",
      "Ford          7319\n",
      "BMW           7314\n",
      "Volkswagen    7240\n",
      "Honda         7207\n",
      "Chevrolet     7182\n",
      "Hyundai       7156\n",
      "Toyota        7145\n",
      "Kia           7097\n",
      "Nissan        7075\n",
      "Tesla         7065\n",
      "Name: price_usd, dtype: int32\n"
     ]
    }
   ],
   "source": [
    "avg_Price_per_Brand = df.groupby('brand')['price_usd'].mean().astype(int).sort_values(ascending=False)\n",
    "\n",
    "print(avg_Price_per_Brand)\n"
   ]
  },
  {
   "cell_type": "code",
   "execution_count": 20,
   "metadata": {},
   "outputs": [
    {
     "name": "stdout",
     "output_type": "stream",
     "text": [
      "1995    320\n",
      "1996    343\n",
      "1997    354\n",
      "1998    350\n",
      "1999    335\n",
      "2000    329\n",
      "2001    312\n",
      "2002    353\n",
      "2003    313\n",
      "2004    328\n",
      "2005    314\n",
      "2006    349\n",
      "2007    379\n",
      "2008    315\n",
      "2009    370\n",
      "2010    316\n",
      "2011    391\n",
      "2012    327\n",
      "2013    342\n",
      "2014    334\n",
      "2015    346\n",
      "2016    381\n",
      "2017    384\n",
      "2018    338\n",
      "2019    355\n",
      "2020    373\n",
      "2021    333\n",
      "2022    369\n",
      "2023    347\n",
      "Name: make_year, dtype: int64\n"
     ]
    }
   ],
   "source": [
    "years_count = df['make_year'].value_counts().sort_index()\n",
    "\n",
    "print(years_count)\n",
    "\n"
   ]
  },
  {
   "cell_type": "code",
   "execution_count": 22,
   "metadata": {},
   "outputs": [
    {
     "name": "stdout",
     "output_type": "stream",
     "text": [
      "Petrol      4968\n",
      "Diesel      4058\n",
      "Electric     974\n",
      "Name: fuel_type, dtype: int64\n"
     ]
    }
   ],
   "source": [
    "fuel_counts = df['fuel_type'].value_counts()\n",
    "print(fuel_counts)"
   ]
  },
  {
   "cell_type": "code",
   "execution_count": 24,
   "metadata": {},
   "outputs": [
    {
     "name": "stdout",
     "output_type": "stream",
     "text": [
      "fuel_type\n",
      "Electric    9839.48\n",
      "Diesel      6907.74\n",
      "Petrol      6880.49\n",
      "Name: price_usd, dtype: float64\n"
     ]
    }
   ],
   "source": [
    "avg_fuel_counts = df.groupby('fuel_type') ['price_usd'].mean().round(2).sort_values(ascending=False)\n",
    "\n",
    "print(avg_fuel_counts)\n",
    "\n",
    "\n",
    "    "
   ]
  },
  {
   "cell_type": "code",
   "execution_count": 10,
   "metadata": {},
   "outputs": [
    {
     "name": "stdout",
     "output_type": "stream",
     "text": [
      "عدد السيارات حسب نوع ناقل الحركة:\n",
      "Manual       5985\n",
      "Automatic    4015\n",
      "Name: transmission, dtype: int64\n"
     ]
    }
   ],
   "source": [
    "transmission = df['transmission'].value_counts()\n",
    "\n",
    "print(\"عدد السيارات حسب نوع ناقل الحركة:\")\n",
    "print(transmission)\n"
   ]
  },
  {
   "cell_type": "code",
   "execution_count": 17,
   "metadata": {},
   "outputs": [
    {
     "name": "stdout",
     "output_type": "stream",
     "text": [
      "Average car price by transmission type:\n",
      "transmission\n",
      "Automatic    7189\n",
      "Manual       7173\n",
      "Name: price_usd, dtype: int32\n"
     ]
    }
   ],
   "source": [
    "avg_transmission = df.groupby('transmission') ['price_usd'].mean().astype(int).sort_values(ascending=False)\n",
    "\n",
    "print(\"Average car price by transmission type:\")\n",
    "\n",
    "print(avg_transmission)"
   ]
  },
  {
   "cell_type": "code",
   "execution_count": 30,
   "metadata": {},
   "outputs": [
    {
     "name": "stdout",
     "output_type": "stream",
     "text": [
      "MAE: 790.4342575711496\n",
      "RMSE: 989.4792446449765\n",
      "R² Score: 0.8769321307516533\n"
     ]
    }
   ],
   "source": [
    "features = ['make_year', 'mileage_kmpl', 'engine_cc', 'owner_count','brand', 'fuel_type', 'transmission']\n",
    "\n",
    "x = df[features]  #Input variables\n",
    "y = df['price_usd'] #variable target\n",
    "\n",
    "categorical_features = ['brand', 'fuel_type', 'transmission']\n",
    "numerical_features  = ['make_year', 'mileage_kmpl', 'engine_cc', 'owner_count']\n",
    "\n",
    "preprocessor = ColumnTransformer(\n",
    "    transformers=[\n",
    "        ('cat', OneHotEncoder(handle_unknown='ignore'), categorical_features)\n",
    "    ],\n",
    "    remainder='passthrough'  # خلى الأرقام زي ما هي\n",
    ")\n",
    "\n",
    "model = Pipeline(steps=[\n",
    "    ('preprocessor', preprocessor),\n",
    "    ('regressor', LinearRegression())\n",
    "])\n",
    "\n",
    "\n",
    "x_train, x_test, y_train, y_test = train_test_split(x,y,test_size = 0.2, random_state = 42) #Data partitioning\n",
    "\n",
    "\n",
    "model.fit(x_train, y_train)\n",
    "\n",
    "y_pred = model.predict(x_test)\n",
    "\n",
    "\n",
    "print(\"MAE:\", mean_absolute_error(y_test, y_pred))\n",
    "print(\"RMSE:\", mean_squared_error(y_test, y_pred, squared=False))\n",
    "print(\"R² Score:\", r2_score(y_test, y_pred))\n",
    "\n",
    "\n",
    "\n"
   ]
  },
  {
   "cell_type": "code",
   "execution_count": 36,
   "metadata": {
    "scrolled": true
   },
   "outputs": [
    {
     "data": {
      "image/png": "[encoded data removed]",
      "text/plain": [
       "<Figure size 576x360 with 1 Axes>"
      ]
     },
     "metadata": {
      "needs_background": "light"
     },
     "output_type": "display_data"
    }
   ],
   "source": [
    "#This shows the distribution of differences (errors) between the actual and expected price:\n",
    "\n",
    "errors = y_test - y_pred \n",
    "\n",
    "plt.figure(figsize=(8,5))\n",
    "plt.hist(errors, bins=30, color='orange', edgecolor='black')\n",
    "plt.title('Error distribution (actual price - expected price)')\n",
    "plt.xlabel('Difference in price (dollars)')\n",
    "plt.ylabel('Number of cars')\n",
    "plt.grid(True)\n",
    "plt.show()\n"
   ]
  },
  {
   "cell_type": "code",
   "execution_count": 40,
   "metadata": {},
   "outputs": [
    {
     "data": {
      "image/png": "[encoded data removed]",
      "text/plain": [
       "<Figure size 720x432 with 1 Axes>"
      ]
     },
     "metadata": {
      "needs_background": "light"
     },
     "output_type": "display_data"
    }
   ],
   "source": [
    "#he effect of fuel type on price\n",
    "\n",
    "plt.figure(figsize=(10, 6))\n",
    "sns.boxplot(x='fuel_type', y='price_usd', data=df)\n",
    "plt.title('The effect of fuel type on price')\n",
    "plt.xlabel('type fuel')\n",
    "plt.xlabel('dollar price') \n",
    "plt.grid(True)\n",
    "plt.show()\n"
   ]
  },
  {
   "cell_type": "code",
   "execution_count": 42,
   "metadata": {},
   "outputs": [
    {
     "data": {
      "image/png": "[encoded data removed]",
      "text/plain": [
       "<Figure size 864x432 with 1 Axes>"
      ]
     },
     "metadata": {
      "needs_background": "light"
     },
     "output_type": "display_data"
    }
   ],
   "source": [
    "# the effect brand on price\n",
    "\n",
    "plt.figure(figsize=(12, 6))\n",
    "sns.boxplot(x='brand', y='price_usd', data=df)\n",
    "plt.title('the effect brand on price')\n",
    "plt.xlabel('beand')\n",
    "plt.ylabel('dollar price')\n",
    "plt.xticks(rotation=45)\n",
    "plt.grid(True)\n",
    "plt.show()\n"
   ]
  },
  {
   "cell_type": "code",
   "execution_count": null,
   "metadata": {},
   "outputs": [],
   "source": [
    "764052"
   ]
  }
 ],
 "metadata": {
  "kernelspec": {
   "display_name": "Python 3",
   "language": "python",
   "name": "python3"
  },
  "language_info": {
   "codemirror_mode": {
    "name": "ipython",
    "version": 3
   },
   "file_extension": ".py",
   "mimetype": "text/x-python",
   "name": "python",
   "nbconvert_exporter": "python",
   "pygments_lexer": "ipython3",
   "version": "3.8.5"
  }
 },
 "nbformat": 4,
 "nbformat_minor": 4
}
